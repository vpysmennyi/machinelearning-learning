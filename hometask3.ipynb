{
  "nbformat": 4,
  "nbformat_minor": 0,
  "metadata": {
    "colab": {
      "name": "Untitled2.ipynb",
      "provenance": [],
      "collapsed_sections": [],
      "authorship_tag": "ABX9TyO5aH2Hwsv2CAqthbjER1P1",
      "include_colab_link": true
    },
    "kernelspec": {
      "name": "python3",
      "display_name": "Python 3"
    }
  },
  "cells": [
    {
      "cell_type": "markdown",
      "metadata": {
        "id": "view-in-github",
        "colab_type": "text"
      },
      "source": [
        "<a href=\"https://colab.research.google.com/github/vpysmennyi/machinelearning-learning/blob/main/hometask3.ipynb\" target=\"_parent\"><img src=\"https://colab.research.google.com/assets/colab-badge.svg\" alt=\"Open In Colab\"/></a>"
      ]
    },
    {
      "cell_type": "code",
      "metadata": {
        "id": "zbr1OJ1PECuF",
        "outputId": "c8ccd828-ea36-43f7-f026-b47840824c85",
        "colab": {
          "base_uri": "https://localhost:8080/"
        }
      },
      "source": [
        "import numpy as np\n",
        "import pandas as pd\n",
        "import matplotlib.pyplot as plt \n",
        "from sklearn.model_selection import train_test_split\n",
        "from sklearn.metrics import accuracy_score\n",
        "from sklearn.model_selection import cross_val_score\n",
        "from sklearn.datasets import make_regression\n",
        "\n",
        "X,y = make_regression(n_samples = 1000, n_features=100)\n",
        "y= y[:, None]\n",
        "print(X.shape)\n",
        "\n",
        "b = np.empty(10)\n",
        "\n",
        "\n",
        "N = 1000\n"
      ],
      "execution_count": 132,
      "outputs": [
        {
          "output_type": "stream",
          "text": [
            "(1000, 100)\n"
          ],
          "name": "stdout"
        }
      ]
    },
    {
      "cell_type": "code",
      "metadata": {
        "id": "Txq-KZTXgEui",
        "outputId": "6bbb6c95-75bb-48dc-b245-f969ad6a4428",
        "colab": {
          "base_uri": "https://localhost:8080/"
        }
      },
      "source": [
        "print(X.shape)"
      ],
      "execution_count": null,
      "outputs": [
        {
          "output_type": "stream",
          "text": [
            "(1000, 100)\n"
          ],
          "name": "stdout"
        }
      ]
    },
    {
      "cell_type": "code",
      "metadata": {
        "id": "wZ3XD2msOUq0",
        "outputId": "ac9689e2-9a5e-4f76-9e39-2d93dc1ba3d1",
        "colab": {
          "base_uri": "https://localhost:8080/"
        }
      },
      "source": [
        "# Fixed from lection\n",
        "\n",
        "lr = 1e-10\n",
        "b1 = np.random.rand(N, 100)\n",
        "b2 = np.random.rand(N, 1)\n",
        "#b2 = b2[:, None]\n",
        "print('b2', b2.shape)\n",
        "\n",
        "for i in range(10):\n",
        "    y1 = X @ b1.T\n",
        "\n",
        "    z1 = np.tanh(y1)\n",
        "    y2 = z1 @ b2\n",
        "\n",
        "    mse_loss1 = np.sum((y2 - y) ** 2)\n",
        "    print(f\"MSE after {i + 1} step: {mse_loss1}\")\n",
        "\n",
        "    dz1 = 1/(np.square(np.cosh(y1)))\n",
        "\n",
        "    db1 = 2*(y2 - y) @  b2.T @ dz1.T @ X\n",
        "    \n",
        "    b1 = b1 - lr * db1\n",
        "\n",
        "    db2 = 2 * (y2 - y).T @ z1\n",
        "    b2 = b2 - lr * db2"
      ],
      "execution_count": null,
      "outputs": [
        {
          "output_type": "stream",
          "text": [
            "b2 (1000, 1)\n",
            "MSE after 1 step: 135992501.86521652\n",
            "MSE after 2 step: 135970675473.26024\n",
            "MSE after 3 step: 122674686038.5947\n",
            "MSE after 4 step: 107777871392.18425\n",
            "MSE after 5 step: 98157256152.72772\n",
            "MSE after 6 step: 91474999384.41956\n",
            "MSE after 7 step: 86472078391.54132\n",
            "MSE after 8 step: 82590891593.40865\n",
            "MSE after 9 step: 79441693581.08524\n",
            "MSE after 10 step: 76842609869.49739\n"
          ],
          "name": "stdout"
        }
      ]
    },
    {
      "cell_type": "code",
      "metadata": {
        "id": "_QSZ02j3ueCn",
        "outputId": "12c30d2c-4ba6-47b8-b9fd-c8ab3004fc63",
        "colab": {
          "base_uri": "https://localhost:8080/",
          "height": 300
        }
      },
      "source": [
        "# 2 layers, SGD\n",
        "N = 1\n",
        "index = np.random.randint(0,X.shape[1])\n",
        "\n",
        "Xs = X[index]\n",
        "ys = y[index]\n",
        "Xs = Xs[:, None]\n",
        "ys = ys[:, None]\n",
        "\n",
        "print(Xs.shape)\n",
        "print(ys.shape)\n",
        "\n",
        "lr = 1e-10\n",
        "b1 = np.random.rand(N, 100)\n",
        "b2 = np.random.rand(N, 100)\n",
        "\n",
        "for i in range(10):\n",
        "    y1 = Xs @ b1\n",
        "    \n",
        "    z1 = np.tanh(y1)\n",
        "    y2 = z1 @ b2.T\n",
        "    print((y2 - ys).shape)\n",
        "    mse_loss1 = np.sum((y2 - ys) ** 2)\n",
        "    print(f\"MSE after {i + 1} step: {mse_loss1}\")\n",
        "\n",
        "    dz1 = 1/(np.square(np.cosh(y1)))\n",
        "\n",
        "    db1 = 2*(y2 - ys) @  b2 @ dz1.T @ Xs\n",
        "    \n",
        "    b1 = b1 - lr * db1\n",
        "\n",
        "    db2 = 2 * (y2 - ys).T @ z1\n",
        "    b2 = b2 - lr * db2"
      ],
      "execution_count": 160,
      "outputs": [
        {
          "output_type": "stream",
          "text": [
            "(100, 1)\n",
            "(1, 1)\n",
            "(100, 1)\n",
            "MSE after 1 step: 281331.64965609356\n"
          ],
          "name": "stdout"
        },
        {
          "output_type": "error",
          "ename": "ValueError",
          "evalue": "ignored",
          "traceback": [
            "\u001b[0;31m---------------------------------------------------------------------------\u001b[0m",
            "\u001b[0;31mValueError\u001b[0m                                Traceback (most recent call last)",
            "\u001b[0;32m<ipython-input-160-cd17f6210003>\u001b[0m in \u001b[0;36m<module>\u001b[0;34m()\u001b[0m\n\u001b[1;32m     16\u001b[0m \u001b[0;34m\u001b[0m\u001b[0m\n\u001b[1;32m     17\u001b[0m \u001b[0;32mfor\u001b[0m \u001b[0mi\u001b[0m \u001b[0;32min\u001b[0m \u001b[0mrange\u001b[0m\u001b[0;34m(\u001b[0m\u001b[0;36m10\u001b[0m\u001b[0;34m)\u001b[0m\u001b[0;34m:\u001b[0m\u001b[0;34m\u001b[0m\u001b[0;34m\u001b[0m\u001b[0m\n\u001b[0;32m---> 18\u001b[0;31m     \u001b[0my1\u001b[0m \u001b[0;34m=\u001b[0m \u001b[0mXs\u001b[0m \u001b[0;34m@\u001b[0m \u001b[0mb1\u001b[0m\u001b[0;34m\u001b[0m\u001b[0;34m\u001b[0m\u001b[0m\n\u001b[0m\u001b[1;32m     19\u001b[0m \u001b[0;34m\u001b[0m\u001b[0m\n\u001b[1;32m     20\u001b[0m     \u001b[0mz1\u001b[0m \u001b[0;34m=\u001b[0m \u001b[0mnp\u001b[0m\u001b[0;34m.\u001b[0m\u001b[0mtanh\u001b[0m\u001b[0;34m(\u001b[0m\u001b[0my1\u001b[0m\u001b[0;34m)\u001b[0m\u001b[0;34m\u001b[0m\u001b[0;34m\u001b[0m\u001b[0m\n",
            "\u001b[0;31mValueError\u001b[0m: matmul: Input operand 1 has a mismatch in its core dimension 0, with gufunc signature (n?,k),(k,m?)->(n?,m?) (size 100 is different from 1)"
          ]
        }
      ]
    },
    {
      "cell_type": "code",
      "metadata": {
        "id": "hDJIL-FfniFs",
        "outputId": "5da198fb-8450-4b82-8ec2-c2a8ee9af2e3",
        "colab": {
          "base_uri": "https://localhost:8080/",
          "height": 283
        }
      },
      "source": [
        "# 3 layers\n",
        "\n",
        "lr = 1e-10\n",
        "b1 = np.random.rand(N, 100)\n",
        "b2 = np.random.rand(N, 100)\n",
        "b3 = np.random.rand(100, N)\n",
        "#b2 = b2[:, None]\n",
        "print('b2', b2.shape)\n",
        "\n",
        "for i in range(10):\n",
        "    y1 = X @ b1.T\n",
        "\n",
        "    z1 = np.tanh(y1)\n",
        "    y2 = z1 @ b2\n",
        "    print(y2.T.shape)\n",
        "    print(b3.shape)\n",
        "    \n",
        "    y3 = b3 @ y2 # layer 3\n",
        "    print(y3.shape)\n",
        "    mse_loss1 = np.sum((y3 - y) ** 2)\n",
        "    print(f\"MSE after {i + 1} step: {mse_loss1}\")\n",
        "\n",
        "    dz1 = 1/(np.square(np.cosh(y1)))\n",
        "\n",
        "    db1 = 2*(y3 - y) @ b3.T @ b2.T @ dz1 @ X\n",
        "    \n",
        "    b1 = b1 - lr * db1\n",
        "\n",
        "    db2 = 2 * (y3 - y) @ z1.T @ b3.T\n",
        "    b2 = b2 - lr * db2\n",
        "\n",
        "    db3 = 2 * (y3 - y) @ y2\n",
        "    b3 = b3 = lr* db3"
      ],
      "execution_count": 148,
      "outputs": [
        {
          "output_type": "stream",
          "text": [
            "b2 (100, 100)\n",
            "(100, 1000)\n",
            "(100, 100)\n"
          ],
          "name": "stdout"
        },
        {
          "output_type": "error",
          "ename": "ValueError",
          "evalue": "ignored",
          "traceback": [
            "\u001b[0;31m---------------------------------------------------------------------------\u001b[0m",
            "\u001b[0;31mValueError\u001b[0m                                Traceback (most recent call last)",
            "\u001b[0;32m<ipython-input-148-65a0e9f95710>\u001b[0m in \u001b[0;36m<module>\u001b[0;34m()\u001b[0m\n\u001b[1;32m     16\u001b[0m     \u001b[0mprint\u001b[0m\u001b[0;34m(\u001b[0m\u001b[0mb3\u001b[0m\u001b[0;34m.\u001b[0m\u001b[0mshape\u001b[0m\u001b[0;34m)\u001b[0m\u001b[0;34m\u001b[0m\u001b[0;34m\u001b[0m\u001b[0m\n\u001b[1;32m     17\u001b[0m \u001b[0;34m\u001b[0m\u001b[0m\n\u001b[0;32m---> 18\u001b[0;31m     \u001b[0my3\u001b[0m \u001b[0;34m=\u001b[0m \u001b[0mb3\u001b[0m \u001b[0;34m@\u001b[0m \u001b[0my2\u001b[0m \u001b[0;31m# layer 3\u001b[0m\u001b[0;34m\u001b[0m\u001b[0;34m\u001b[0m\u001b[0m\n\u001b[0m\u001b[1;32m     19\u001b[0m     \u001b[0mprint\u001b[0m\u001b[0;34m(\u001b[0m\u001b[0my3\u001b[0m\u001b[0;34m.\u001b[0m\u001b[0mshape\u001b[0m\u001b[0;34m)\u001b[0m\u001b[0;34m\u001b[0m\u001b[0;34m\u001b[0m\u001b[0m\n\u001b[1;32m     20\u001b[0m     \u001b[0mmse_loss1\u001b[0m \u001b[0;34m=\u001b[0m \u001b[0mnp\u001b[0m\u001b[0;34m.\u001b[0m\u001b[0msum\u001b[0m\u001b[0;34m(\u001b[0m\u001b[0;34m(\u001b[0m\u001b[0my3\u001b[0m \u001b[0;34m-\u001b[0m \u001b[0my\u001b[0m\u001b[0;34m)\u001b[0m \u001b[0;34m**\u001b[0m \u001b[0;36m2\u001b[0m\u001b[0;34m)\u001b[0m\u001b[0;34m\u001b[0m\u001b[0;34m\u001b[0m\u001b[0m\n",
            "\u001b[0;31mValueError\u001b[0m: matmul: Input operand 1 has a mismatch in its core dimension 0, with gufunc signature (n?,k),(k,m?)->(n?,m?) (size 1000 is different from 100)"
          ]
        }
      ]
    }
  ]
}