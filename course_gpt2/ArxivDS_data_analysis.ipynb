{
  "nbformat": 4,
  "nbformat_minor": 0,
  "metadata": {
    "colab": {
      "name": "ArxivDS_data_analysis.ipynb",
      "provenance": [],
      "collapsed_sections": [],
      "mount_file_id": "1XPhla4ABYO5MJe_KWjaZJTDSMrSrKEz0",
      "authorship_tag": "ABX9TyOeWacp1/GKVrvsxNJ7l6nN",
      "include_colab_link": true
    },
    "kernelspec": {
      "name": "python3",
      "display_name": "Python 3"
    }
  },
  "cells": [
    {
      "cell_type": "markdown",
      "metadata": {
        "id": "view-in-github",
        "colab_type": "text"
      },
      "source": [
        "<a href=\"https://colab.research.google.com/github/vpysmennyi/machinelearning-learning/blob/main/course_gpt2/ArxivDS_data_analysis.ipynb\" target=\"_parent\"><img src=\"https://colab.research.google.com/assets/colab-badge.svg\" alt=\"Open In Colab\"/></a>"
      ]
    },
    {
      "cell_type": "code",
      "metadata": {
        "id": "wmqUPOh1AI_9"
      },
      "source": [
        "\n",
        "\n",
        "\n",
        "\n"
      ],
      "execution_count": 1,
      "outputs": []
    },
    {
      "cell_type": "code",
      "metadata": {
        "colab": {
          "base_uri": "https://localhost:8080/"
        },
        "id": "Mj-Q5JznIosG",
        "outputId": "2eef6e6e-14cc-4824-c77a-f7ad0e87b512"
      },
      "source": [
        "from google.colab import drive\n",
        "\n",
        "import seaborn as sns\n",
        "import pandas as pd\n",
        "import nltk\n",
        "import numpy as np\n",
        "\n",
        "drive.mount('/content/drive')\n",
        "nltk.download('punkt')\n",
        "df = pd.read_json('drive/MyDrive/ArxivDS/arxiv-abstracts.json', lines=True)\n"
      ],
      "execution_count": 2,
      "outputs": [
        {
          "output_type": "stream",
          "text": [
            "Drive already mounted at /content/drive; to attempt to forcibly remount, call drive.mount(\"/content/drive\", force_remount=True).\n",
            "[nltk_data] Downloading package punkt to /root/nltk_data...\n",
            "[nltk_data]   Unzipping tokenizers/punkt.zip.\n"
          ],
          "name": "stdout"
        }
      ]
    },
    {
      "cell_type": "code",
      "metadata": {
        "id": "jb_8Tjqjjrau"
      },
      "source": [
        "abstracts = df.abstract"
      ],
      "execution_count": 3,
      "outputs": []
    },
    {
      "cell_type": "code",
      "metadata": {
        "colab": {
          "base_uri": "https://localhost:8080/",
          "height": 336
        },
        "id": "YfPqYhjOD96-",
        "outputId": "c00696d9-95b4-4bb6-dfbb-df9772873566"
      },
      "source": [
        "abstr_lengths = []\n",
        "\n",
        "for a in abstracts:\n",
        "    tokens = nltk.word_tokenize(a)\n",
        "\n",
        "    abstr_lengths.append(len(tokens))\n",
        "\n",
        "abstr_lengths = np.array(abstr_lengths)\n",
        "sns.distplot(abstr_lengths)\n"
      ],
      "execution_count": 4,
      "outputs": [
        {
          "output_type": "stream",
          "text": [
            "/usr/local/lib/python3.7/dist-packages/seaborn/distributions.py:2557: FutureWarning: `distplot` is a deprecated function and will be removed in a future version. Please adapt your code to use either `displot` (a figure-level function with similar flexibility) or `histplot` (an axes-level function for histograms).\n",
            "  warnings.warn(msg, FutureWarning)\n"
          ],
          "name": "stderr"
        },
        {
          "output_type": "execute_result",
          "data": {
            "text/plain": [
              "<matplotlib.axes._subplots.AxesSubplot at 0x7f527a006210>"
            ]
          },
          "metadata": {
            "tags": []
          },
          "execution_count": 4
        },
        {
          "output_type": "display_data",
          "data": {
            "image/png": "[encoded data removed]",
            "text/plain": [
              "<Figure size 432x288 with 1 Axes>"
            ]
          },
          "metadata": {
            "tags": [],
            "needs_background": "light"
          }
        }
      ]
    },
    {
      "cell_type": "code",
      "metadata": {
        "colab": {
          "base_uri": "https://localhost:8080/"
        },
        "id": "M0xWiUHCFQ31",
        "outputId": "62ac2860-8e85-468f-c736-a4a7542d4795"
      },
      "source": [
        "print(np.average(abstr_lengths))\n",
        "print(np.max(abstr_lengths))\n",
        "print(len(abstr_lengths[abstr_lengths > 256])/len(abstr_lengths))"
      ],
      "execution_count": 6,
      "outputs": [
        {
          "output_type": "stream",
          "text": [
            "162.2412529056809\n",
            "1179\n",
            "0.12999753465808825\n"
          ],
          "name": "stdout"
        }
      ]
    }
  ]
}